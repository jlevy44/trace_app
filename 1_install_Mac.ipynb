{
 "cells": [
  {
   "cell_type": "code",
   "execution_count": 2,
   "metadata": {},
   "outputs": [
    {
     "name": "stdout",
     "output_type": "stream",
     "text": [
      "572 INFO: PyInstaller: 6.9.0, contrib hooks: 2024.7\n",
      "572 INFO: Python: 3.11.8 (conda)\n",
      "600 INFO: Platform: macOS-14.5-x86_64-i386-64bit\n",
      "600 INFO: Python environment: /Users/joshualevy/opt/anaconda3/envs/py311\n",
      "601 INFO: wrote /Users/joshualevy/Documents/GitHub/trace_app/TRACE.spec\n",
      "608 INFO: Module search paths (PYTHONPATH):\n",
      "['/Users/joshualevy/opt/anaconda3/envs/py311/lib/python311.zip',\n",
      " '/Users/joshualevy/opt/anaconda3/envs/py311/lib/python3.11',\n",
      " '/Users/joshualevy/opt/anaconda3/envs/py311/lib/python3.11/lib-dynload',\n",
      " '/Users/joshualevy/opt/anaconda3/envs/py311/lib/python3.11/site-packages',\n",
      " '/Users/joshualevy/opt/anaconda3/envs/py311/lib/python3.11/site-packages/aeosa',\n",
      " '/Users/joshualevy/Documents/GitHub/trace_app']\n",
      "2547 INFO: checking Analysis\n",
      "2547 INFO: Building Analysis because Analysis-00.toc is non existent\n",
      "2548 INFO: Running Analysis Analysis-00.toc\n",
      "2548 INFO: Target bytecode optimization level: 0\n",
      "2548 INFO: Initializing module dependency graph...\n",
      "2548 INFO: Caching module graph hooks...\n",
      "2558 INFO: Analyzing base_library.zip ...\n",
      "4623 INFO: Loading module hook 'hook-encodings.py' from '/Users/joshualevy/opt/anaconda3/envs/py311/lib/python3.11/site-packages/PyInstaller/hooks'...\n",
      "6077 INFO: Loading module hook 'hook-pickle.py' from '/Users/joshualevy/opt/anaconda3/envs/py311/lib/python3.11/site-packages/PyInstaller/hooks'...\n",
      "7021 INFO: Loading module hook 'hook-heapq.py' from '/Users/joshualevy/opt/anaconda3/envs/py311/lib/python3.11/site-packages/PyInstaller/hooks'...\n",
      "7290 INFO: Caching module dependency graph...\n",
      "7365 INFO: Looking for Python shared library...\n",
      "7370 INFO: Using Python shared library: /Users/joshualevy/opt/anaconda3/envs/py311/lib/libpython3.11.dylib\n",
      "7370 INFO: Analyzing /Users/joshualevy/Documents/GitHub/trace_app/1_run_desktop_app_final.py\n",
      "7480 INFO: Loading module hook 'hook-_tkinter.py' from '/Users/joshualevy/opt/anaconda3/envs/py311/lib/python3.11/site-packages/PyInstaller/hooks'...\n",
      "7528 INFO: Loading module hook 'hook-platform.py' from '/Users/joshualevy/opt/anaconda3/envs/py311/lib/python3.11/site-packages/PyInstaller/hooks'...\n",
      "7550 INFO: Loading module hook 'hook-xml.py' from '/Users/joshualevy/opt/anaconda3/envs/py311/lib/python3.11/site-packages/PyInstaller/hooks'...\n",
      "7583 INFO: Processing module hooks...\n",
      "7583 INFO: Loading module hook 'hook-_tkinter.py' from '/Users/joshualevy/opt/anaconda3/envs/py311/lib/python3.11/site-packages/PyInstaller/hooks'...\n",
      "7585 INFO: checking Tree\n",
      "7585 INFO: Building Tree because Tree-00.toc is non existent\n",
      "7585 INFO: Building Tree Tree-00.toc\n",
      "7600 INFO: checking Tree\n",
      "7600 INFO: Building Tree because Tree-01.toc is non existent\n",
      "7600 INFO: Building Tree Tree-01.toc\n",
      "7603 INFO: checking Tree\n",
      "7603 INFO: Building Tree because Tree-02.toc is non existent\n",
      "7604 INFO: Building Tree Tree-02.toc\n",
      "7857 INFO: Performing binary vs. data reclassification (319 entries)\n",
      "7905 INFO: Looking for ctypes DLLs\n",
      "7914 INFO: Analyzing run-time hooks ...\n",
      "7915 INFO: Including run-time hook '/Users/joshualevy/opt/anaconda3/envs/py311/lib/python3.11/site-packages/PyInstaller/hooks/rthooks/pyi_rth_inspect.py'\n",
      "7916 INFO: Including run-time hook '/Users/joshualevy/opt/anaconda3/envs/py311/lib/python3.11/site-packages/PyInstaller/hooks/rthooks/pyi_rth__tkinter.py'\n",
      "7924 INFO: Looking for dynamic libraries\n",
      "7998 INFO: Warnings written to /Users/joshualevy/Documents/GitHub/trace_app/build/TRACE/warn-TRACE.txt\n",
      "8013 INFO: Graph cross-reference written to /Users/joshualevy/Documents/GitHub/trace_app/build/TRACE/xref-TRACE.html\n",
      "8059 INFO: checking PYZ\n",
      "8060 INFO: Building PYZ because PYZ-00.toc is non existent\n",
      "8060 INFO: Building PYZ (ZlibArchive) /Users/joshualevy/Documents/GitHub/trace_app/build/TRACE/PYZ-00.pyz\n",
      "8253 INFO: Building PYZ (ZlibArchive) /Users/joshualevy/Documents/GitHub/trace_app/build/TRACE/PYZ-00.pyz completed successfully.\n",
      "8255 INFO: EXE target arch: x86_64\n",
      "8255 INFO: Code signing identity: None\n",
      "8260 INFO: checking PKG\n",
      "8260 INFO: Building PKG because PKG-00.toc is non existent\n",
      "8260 INFO: Building PKG (CArchive) TRACE.pkg\n",
      "11667 INFO: Building PKG (CArchive) TRACE.pkg completed successfully.\n",
      "11671 INFO: Bootloader /Users/joshualevy/opt/anaconda3/envs/py311/lib/python3.11/site-packages/PyInstaller/bootloader/Darwin-64bit/runw\n",
      "11671 INFO: checking EXE\n",
      "11671 INFO: Building EXE because EXE-00.toc is non existent\n",
      "11672 INFO: Building EXE from EXE-00.toc\n",
      "11672 INFO: Copying bootloader EXE to /Users/joshualevy/Documents/GitHub/trace_app/dist/TRACE\n",
      "11674 INFO: Converting EXE to target arch (x86_64)\n",
      "12083 INFO: Removing signature(s) from EXE\n",
      "12338 INFO: Appending PKG archive to EXE\n",
      "12352 INFO: Fixing EXE headers for code signing\n",
      "12357 INFO: Rewriting the executable's macOS SDK version (13.1.0) to match the SDK version of the Python library (11.0.0) in order to avoid inconsistent behavior and potential UI issues in the frozen application.\n",
      "12358 INFO: Re-signing the EXE\n",
      "12453 INFO: Building EXE from EXE-00.toc completed successfully.\n",
      "12459 INFO: checking BUNDLE\n",
      "12459 INFO: Building BUNDLE because BUNDLE-00.toc is non existent\n",
      "12459 INFO: Building BUNDLE BUNDLE-00.toc\n",
      "13655 INFO: Signing the BUNDLE...\n",
      "13767 INFO: Building BUNDLE BUNDLE-00.toc completed successfully.\n"
     ]
    }
   ],
   "source": [
    "! pyinstaller --onefile 1_run_desktop_app_final.py --icon=icon/trace_logo.ico --noconsole --name=TRACE"
   ]
  },
  {
   "cell_type": "code",
   "execution_count": 3,
   "metadata": {},
   "outputs": [],
   "source": [
    "! cp -al dist/TRACE* dist/Mac/"
   ]
  },
  {
   "cell_type": "code",
   "execution_count": null,
   "metadata": {},
   "outputs": [],
   "source": []
  }
 ],
 "metadata": {
  "kernelspec": {
   "display_name": "py311",
   "language": "python",
   "name": "python3"
  },
  "language_info": {
   "codemirror_mode": {
    "name": "ipython",
    "version": 3
   },
   "file_extension": ".py",
   "mimetype": "text/x-python",
   "name": "python",
   "nbconvert_exporter": "python",
   "pygments_lexer": "ipython3",
   "version": "3.11.8"
  }
 },
 "nbformat": 4,
 "nbformat_minor": 2
}
